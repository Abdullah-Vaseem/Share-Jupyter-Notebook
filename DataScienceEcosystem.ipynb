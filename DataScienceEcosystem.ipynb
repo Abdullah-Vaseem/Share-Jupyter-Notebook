{
 "cells": [
  {
   "cell_type": "markdown",
   "id": "6c0f7a1c-871e-4c21-ac98-7562f9d5a9f3",
   "metadata": {
    "tags": []
   },
   "source": [
    "# Data Science Tools And Ecosystem"
   ]
  },
  {
   "cell_type": "markdown",
   "id": "b2f1dedb-49ef-47de-b2c9-27ee9dc4b204",
   "metadata": {},
   "source": [
    "In this notebook, Data Science Tools and Ecosystem are summarized"
   ]
  },
  {
   "cell_type": "markdown",
   "id": "163f602b-08b8-4341-ad61-3d0dc97ed9fc",
   "metadata": {
    "tags": []
   },
   "source": [
    "Some of the popular languages that Data Scientists use are:\n",
    "1. Python\n",
    "2. SQL\n",
    "3. R"
   ]
  },
  {
   "cell_type": "markdown",
   "id": "e2d9caf7-e315-4a5b-a3c3-abadb90be379",
   "metadata": {},
   "source": [
    "Some of the commonly used libraries used by Data Scientists include:\n",
    "1. Numpy\n",
    "2. Pandas\n",
    "3. Matplotlib\n"
   ]
  },
  {
   "cell_type": "markdown",
   "id": "9cb6a9a5-ec1e-45e6-ab5a-53f51b771546",
   "metadata": {},
   "source": [
    "|Data Science Tools|\n",
    "|------------------|\n",
    "|Jupyter Notebook|\n",
    "|RStudio|\n",
    "|Apache Spark|"
   ]
  },
  {
   "cell_type": "markdown",
   "id": "17128479-67d3-4fe4-a989-d34187d47100",
   "metadata": {},
   "source": [
    "### _Below are a few examples of evaluating arithmetic expressions in Python_\n"
   ]
  },
  {
   "cell_type": "code",
   "execution_count": 4,
   "id": "9eb143e3-9589-41a3-86c5-36d09327ffc0",
   "metadata": {
    "tags": []
   },
   "outputs": [
    {
     "data": {
      "text/plain": [
       "17"
      ]
     },
     "execution_count": 4,
     "metadata": {},
     "output_type": "execute_result"
    }
   ],
   "source": [
    "#This a simple arithmetic expression to mutiply then add integers.\n",
    "(3*4)+5"
   ]
  },
  {
   "cell_type": "code",
   "execution_count": 6,
   "id": "62a50341-a6c2-458c-a177-0e0c4446c5c5",
   "metadata": {
    "tags": []
   },
   "outputs": [
    {
     "name": "stdout",
     "output_type": "stream",
     "text": [
      "We have converted 200 minutes into hours:  3.3333333333333335\n"
     ]
    }
   ],
   "source": [
    "#This will convert 200 minutes to hours by diving by 60\n",
    "minutes = 200\n",
    "convert = 200/60\n",
    "hours = convert\n",
    "print(\"We have converted 200 minutes into hours: \", hours)"
   ]
  },
  {
   "cell_type": "markdown",
   "id": "742508e9-ed76-42f6-8b31-bbd0ced6d52a",
   "metadata": {},
   "source": [
    "__Objectives:__\n",
    "+ List popular languages for Data Science\n",
    "+ Arithmetic Expressions\n",
    "+ Data Science Libraries\n",
    "+ Data Science Tools\n"
   ]
  },
  {
   "cell_type": "markdown",
   "id": "b9d3e422-3a58-42fc-a5d0-37fcb662c516",
   "metadata": {},
   "source": [
    "## Author\n",
    "Abdullah Waseem"
   ]
  },
  {
   "cell_type": "code",
   "execution_count": null,
   "id": "14252eb5-a308-44ff-8f1a-59297748775b",
   "metadata": {},
   "outputs": [],
   "source": []
  }
 ],
 "metadata": {
  "kernelspec": {
   "display_name": "Python",
   "language": "python",
   "name": "conda-env-python-py"
  },
  "language_info": {
   "codemirror_mode": {
    "name": "ipython",
    "version": 3
   },
   "file_extension": ".py",
   "mimetype": "text/x-python",
   "name": "python",
   "nbconvert_exporter": "python",
   "pygments_lexer": "ipython3",
   "version": "3.7.12"
  }
 },
 "nbformat": 4,
 "nbformat_minor": 5
}
